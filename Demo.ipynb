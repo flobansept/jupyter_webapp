{
 "cells": [
  {
   "cell_type": "code",
   "execution_count": 2,
   "id": "binding-glance",
   "metadata": {},
   "outputs": [],
   "source": [
    "import warnings\n",
    "warnings.filterwarnings('ignore')\n",
    "\n",
    "import ipywidgets as widgets\n",
    "from IPython.display import display, clear_output\n",
    "\n",
    "from scipy.integrate import odeint\n",
    "\n",
    "import matplotlib.pyplot as plt\n",
    "import numpy as np\n",
    "\n",
    "import math\n",
    "\n",
    "from matplotlib import figure\n",
    "from ipywidgets import interact\n",
    "\n",
    "import ternary"
   ]
  },
  {
   "cell_type": "code",
   "execution_count": 3,
   "id": "informal-powell",
   "metadata": {},
   "outputs": [],
   "source": [
    "#!jupyter nbextension enable --py widgetsnbextension --sys-prefix\n",
    "#!jupyter serverextension enable voila --sys-prefix"
   ]
  },
  {
   "cell_type": "code",
   "execution_count": 4,
   "id": "reflected-speaker",
   "metadata": {},
   "outputs": [],
   "source": [
    "# Parameters widgets\n",
    "\n",
    "tF = widgets.FloatSlider(min=0., max=1., step=0.1, value=1.)\n",
    "tD = widgets.FloatSlider(min=0., max=1., step=0.1, value=0.3)\n",
    "tS = widgets.FloatSlider(min=0., max=1., step=0.1, value=0.3)\n",
    "muftd = widgets.FloatSlider(min=0., max=0.01, step=0.001, value=0.001)\n",
    "mudtf = widgets.FloatSlider(min=0., max=0.1, step=0.01, value=0.01)\n",
    "mufts = widgets.FloatSlider(min=0., max=0.01, step=0.0001, value=0.0001)\n",
    "mustf = widgets.FloatSlider(min=0., max=0.01, step=0.0001, value=0.0001)\n",
    "Kwid = widgets.FloatLogSlider(value=1e12,base=10,min=2,max=15,step=1,description='K')\n"
   ]
  },
  {
   "cell_type": "code",
   "execution_count": 5,
   "id": "reverse-belfast",
   "metadata": {},
   "outputs": [],
   "source": [
    "text_0 = widgets.HTML(value=\"<h3>Founder strain replication time</h3>\")\n",
    "text_1 = widgets.HTML(value=\"<h3>Duplication strain replication time</h3>\")\n",
    "text_2= widgets.HTML(value=\"<h3>SNP strain replication time</h3>\")\n",
    "text_3= widgets.HTML(value=\"<h3>Mutation rate F to D</h3>\")\n",
    "text_4= widgets.HTML(value=\"<h3>Mutation rate D to F</h3>\")\n",
    "text_5= widgets.HTML(value=\"<h3>Mutation rate F to S</h3>\")\n",
    "text_6= widgets.HTML(value=\"<h3>Mutation rate S to F</h3>\")\n",
    "text_7= widgets.HTML(value=\"<h3>Carrying capacity</h3>\")"
   ]
  },
  {
   "cell_type": "code",
   "execution_count": 7,
   "id": "bearing-lover",
   "metadata": {},
   "outputs": [],
   "source": [
    "vbox_text = widgets.VBox([text_0,tF, text_1, tD, text_2, tS, text_3, muftd,text_4, mudtf, text_5, mufts, text_6, mustf, text_7, Kwid])"
   ]
  },
  {
   "cell_type": "code",
   "execution_count": 8,
   "id": "bb96786c",
   "metadata": {},
   "outputs": [],
   "source": [
    "def solving_function(tt, params, func, y0):\n",
    "    n = len(y0)-1\n",
    "    \n",
    "    K,rF,rD,rS,mFD,mFS,mDF,mSF = params\n",
    "\n",
    "    sol = odeint(func, y0, tt, args=(K,rF,rD,rS,mFD,mFS,mDF,mSF,), hmax=0.001)\n",
    "\n",
    "    \n",
    "    return tt, sol"
   ]
  },
  {
   "cell_type": "code",
   "execution_count": 9,
   "id": "5913765c",
   "metadata": {},
   "outputs": [],
   "source": [
    "def grad(y,t,K,rF,rD,rS,mFD,mFS,mDF,mSF):\n",
    "    \n",
    "    '''Gives the derivative with respect to time of the different subpopulations: R, Du, S'''\n",
    "    \n",
    "    dFdt = (1-(y[0]+y[1]+y[2])/K)*(rF*(1-mFD-mFS)*y[0]+rD*mDF*y[1]+rS*mSF*y[2])\n",
    "    \n",
    "    dDdt = (1-(y[0]+y[1]+y[2])/K)*(rD*(1-mDF)*y[1]+rF*mFD*y[0])\n",
    "    \n",
    "    dSdt = (1-(y[0]+y[1]+y[2])/K)*(rS*(1-mSF)*y[2]+rF*mFS*y[0])\n",
    "    \n",
    "    dydt = np.array([dFdt,dDdt,dSdt])\n",
    "    \n",
    "    return dydt"
   ]
  },
  {
   "cell_type": "code",
   "execution_count": 10,
   "id": "thorough-royal",
   "metadata": {},
   "outputs": [],
   "source": [
    "# button visualize 1\n",
    "\n",
    "button_send = widgets.Button(\n",
    "                description='Visualize',\n",
    "                tooltip='Visualize',\n",
    "                style={'description_width': 'initial'}\n",
    "            )\n",
    "\n",
    "output = widgets.Output()\n",
    "\n",
    "def on_button_clicked(event):\n",
    "    with output:\n",
    "        clear_output()\n",
    "        \n",
    "        rF = np.log(2)/tF.value\n",
    "        rD = np.log(2)/tD.value\n",
    "        rS = np.log(2)/tS.value\n",
    "        \n",
    "        mFD = muftd.value/np.log(2)\n",
    "        mDF = mudtf.value/np.log(2)\n",
    "        mFS = mufts.value/np.log(2)\n",
    "        mSF = mustf.value/np.log(2)\n",
    "        \n",
    "        K = Kwid.value\n",
    "        \n",
    "        tcycle = 4\n",
    "        bottleneck = 0.01\n",
    "        ncycle = 10\n",
    "\n",
    "        n0 = 1e5\n",
    "        y0 = np.array([n0,0,0])\n",
    "\n",
    "        t0temp = 0\n",
    "        y0temp = y0\n",
    "        tftemp = tcycle*ncycle\n",
    "        tttemp = np.linspace(t0temp,tftemp,100)\n",
    "        params = [K,rF,rD,rS,mFD,mFS,mDF,mSF]\n",
    "        soltemp = solving_function(tttemp,params,grad,y0temp)\n",
    "    \n",
    "    \n",
    "        ## Proportions\n",
    "        solplot = np.transpose(soltemp[1])\n",
    "        plt.plot(tttemp, solplot[0]/(solplot[0]+solplot[1]+solplot[2]),label='Founder strain')\n",
    "        plt.plot(tttemp, solplot[1]/(solplot[0]+solplot[1]+solplot[2]),label='Duplication strain')\n",
    "        plt.plot(tttemp, solplot[2]/(solplot[0]+solplot[1]+solplot[2]),label='SNP strain')\n",
    "        \n",
    "        plt.legend()\n",
    " \n",
    "        plt.xlabel('time (days)')\n",
    "\n",
    "        plt.ylabel('proportions')\n",
    "\n",
    "        plt.tight_layout()\n",
    "        \n",
    "        A = plt.figure()\n",
    "        \n",
    "        ## Absolute numbers\n",
    "        solplot = np.transpose(soltemp[1])\n",
    "        plt.plot(tttemp, solplot[0],label='Founder strain')\n",
    "        plt.plot(tttemp, solplot[1],label='Duplication strain')\n",
    "        plt.plot(tttemp, solplot[2],label='SNP strain')\n",
    "        \n",
    "        plt.legend()\n",
    " \n",
    "        plt.xlabel('time (days)')\n",
    "\n",
    "        plt.ylabel('abundance')\n",
    "        plt.semilogy()\n",
    "        plt.tight_layout()\n",
    "        \n",
    "        B = plt.figure()  \n",
    "        \n",
    "        ## Simplex\n",
    "        founder=solplot[0]/(solplot[0]+solplot[1]+solplot[2])\n",
    "        dup=solplot[1]/(solplot[0]+solplot[1]+solplot[2])\n",
    "        snp=solplot[2]/(solplot[0]+solplot[1]+solplot[2])\n",
    "        \n",
    "        scale = 1.0\n",
    "        figure, tax = ternary.figure(scale=scale)\n",
    "    \n",
    "        tax.boundary(linewidth=2.0)\n",
    "        tax.gridlines(color=\"blue\", multiple=0.2)\n",
    "        tax.set_title(\"Plotting of sample trajectory data\", fontsize=20)\n",
    "        points=[]\n",
    "        for i in range(len(tttemp)):\n",
    "            points.append((founder[i],dup[i],snp[i]))\n",
    "        tax.plot(points, linewidth=2.0, label=\"Curve\")\n",
    "        fontsize = 12\n",
    "        offset = 0.14\n",
    "        tax.set_title(\"Various Lines\\n\", fontsize=fontsize)\n",
    "        tax.right_corner_label(\"Founder\", fontsize=fontsize)\n",
    "        tax.top_corner_label(\"Dup\", fontsize=fontsize)\n",
    "        tax.left_corner_label(\"SNP\", fontsize=fontsize)\n",
    "    \n",
    "        tax.ticks(axis='lbr', multiple=.2, linewidth=1, offset=0.025)\n",
    "        tax.get_axes().axis('off')\n",
    "        tax.clear_matplotlib_ticks()\n",
    "        \n",
    "        C = tax.show()\n",
    "        \n",
    "        return (A,B,C)\n",
    "    \n",
    "\n",
    "button_send.on_click(on_button_clicked)\n",
    "\n",
    "vbox_result = widgets.HBox([button_send, output])"
   ]
  },
  {
   "cell_type": "code",
   "execution_count": 11,
   "id": "earlier-saturday",
   "metadata": {},
   "outputs": [
    {
     "data": {
      "application/vnd.jupyter.widget-view+json": {
       "model_id": "16af77d36fac4c32a6072df780f2843d",
       "version_major": 2,
       "version_minor": 0
      },
      "text/plain": [
       "HBox(children=(VBox(children=(HTML(value='<h3>Founder strain replication time</h3>'), FloatSlider(value=1.0, m…"
      ]
     },
     "metadata": {},
     "output_type": "display_data"
    }
   ],
   "source": [
    "page = widgets.HBox([vbox_text,vbox_result])\n",
    "display(page)"
   ]
  },
  {
   "cell_type": "code",
   "execution_count": 12,
   "id": "according-supervisor",
   "metadata": {},
   "outputs": [],
   "source": [
    "!pip freeze > requirements.txt"
   ]
  },
  {
   "cell_type": "code",
   "execution_count": null,
   "id": "f78c39e9",
   "metadata": {},
   "outputs": [],
   "source": []
  },
  {
   "cell_type": "code",
   "execution_count": null,
   "id": "beafde48",
   "metadata": {},
   "outputs": [],
   "source": []
  },
  {
   "cell_type": "code",
   "execution_count": null,
   "id": "d1cf3eee",
   "metadata": {},
   "outputs": [],
   "source": []
  },
  {
   "cell_type": "code",
   "execution_count": null,
   "id": "7e6d2ea7",
   "metadata": {},
   "outputs": [],
   "source": []
  }
 ],
 "metadata": {
  "kernelspec": {
   "display_name": "Python 3 (ipykernel)",
   "language": "python",
   "name": "python3"
  },
  "language_info": {
   "codemirror_mode": {
    "name": "ipython",
    "version": 3
   },
   "file_extension": ".py",
   "mimetype": "text/x-python",
   "name": "python",
   "nbconvert_exporter": "python",
   "pygments_lexer": "ipython3",
   "version": "3.7.6"
  }
 },
 "nbformat": 4,
 "nbformat_minor": 5
}
